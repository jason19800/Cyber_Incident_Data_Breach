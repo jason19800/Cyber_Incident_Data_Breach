{
 "cells": [
  {
   "cell_type": "code",
   "execution_count": 1,
   "metadata": {},
   "outputs": [],
   "source": [
    "from docx import *\n",
    "import re\n",
    "import pandas as pd"
   ]
  },
  {
   "cell_type": "code",
   "execution_count": 2,
   "metadata": {},
   "outputs": [],
   "source": [
    "document = Document('cyber.docx')\n",
    "text_all=[]\n",
    "for para in document.paragraphs:\n",
    "    text_all.append(para.text)\n",
    "\n"
   ]
  },
  {
   "cell_type": "code",
   "execution_count": 3,
   "metadata": {},
   "outputs": [],
   "source": [
    "str_list = list(filter(None, text_all))"
   ]
  },
  {
   "cell_type": "code",
   "execution_count": 4,
   "metadata": {},
   "outputs": [],
   "source": [
    "month_list = []\n",
    "for i in range(len(str_list)):\n",
    "    month_list.append(str_list[i][0:str_list[i].find(' ')])"
   ]
  },
  {
   "cell_type": "code",
   "execution_count": 5,
   "metadata": {},
   "outputs": [],
   "source": [
    "year_list = []\n",
    "for i in range(len(str_list)):\n",
    "    year_list.append(re.findall('\\d\\d\\d\\d',str_list[i]))"
   ]
  },
  {
   "cell_type": "code",
   "execution_count": 6,
   "metadata": {},
   "outputs": [],
   "source": [
    "month_year = pd.DataFrame({'month': month_list,'year':year_list,'information':str_list})"
   ]
  },
  {
   "cell_type": "code",
   "execution_count": 7,
   "metadata": {},
   "outputs": [],
   "source": [
    "month_year.to_csv('csis_data.csv')"
   ]
  },
  {
   "cell_type": "code",
   "execution_count": 8,
   "metadata": {},
   "outputs": [],
   "source": [
    "country_df = pd.read_csv(\"countries.csv\")\n",
    "country_search = list(country_df.Countries)\n",
    "state_search = list(country_df.States)"
   ]
  },
  {
   "cell_type": "code",
   "execution_count": 9,
   "metadata": {},
   "outputs": [],
   "source": [
    "df =  pd.read_csv(\"CSIS_data_analy.csv\")"
   ]
  },
  {
   "cell_type": "code",
   "execution_count": 10,
   "metadata": {},
   "outputs": [],
   "source": [
    "country_search = ['Iran','U.S.','Brit','Russia','China','Syria','Estonia','Israel','Franc', 'Hong Kong', 'Ukrain',\n",
    "                'Australia', 'Germany', 'SouthKorea','Georgia', 'Finn', 'Sweedish', 'Yemen','Malaysia',\n",
    "               'Oman','Mauritius','Canada','Norway','Belgium','U.K.','Netherlands','Swizerland',\n",
    "               'Taiwan','China','Brazil','Poland','Peru','Ecuador','India','Italy','Kazakhstan',\n",
    "               'Vietnam','Algeria','Brazil','Columbia','Mexico','Oman','Tajikistan','Pakistan',\n",
    "               'Afghanistan','Pakistan','North Korea','Uzbekistan']\n",
    "\n",
    "organization_search =['Air Force','Naval','Army','DOD','Defense', 'Department','State', \n",
    "'UN','DHS','CIA','NASA','Cyber Command','Facebook', 'Twitter', 'Microsoft',\n",
    "               'Apple', 'Yahoo', 'Aero', 'NSA','Space','NGA', 'ODNI','DIA','FBI','NRO','FAA']\n",
    "    \n",
    "method_search = ['hack', 'recon', 'ransomware', 'DDOS','virus','trojan','key log', 'DOS','waterhole',\n",
    "    'unknown','WAP','eavesdropping', 'phising','clickjack','cookie','bait','disrupt','penetrate','break in','electronic']\n",
    "    \n",
    "infil_search = ['classified','unclassified']\n",
    "\n",
    "asset_search = ['laptop','USB','social','documents','mail','database','web','accident']"
   ]
  },
  {
   "cell_type": "code",
   "execution_count": 11,
   "metadata": {},
   "outputs": [],
   "source": [
    "def search_function(data,search):\n",
    "    global output_list\n",
    "    output_list = []\n",
    "    for row in range(len(data)):\n",
    "        temp_list = []\n",
    "        for value in range(len(search)):\n",
    "            try:\n",
    "                if search[value] in data[row]:\n",
    "                    temp_list.append(search[value])\n",
    "            except TypeError: \n",
    "                temp_list.append('Null')\n",
    "        output_list.append(str(temp_list))"
   ]
  },
  {
   "cell_type": "code",
   "execution_count": 12,
   "metadata": {},
   "outputs": [],
   "source": [
    "search_function(df.information,country_search)"
   ]
  },
  {
   "cell_type": "code",
   "execution_count": 13,
   "metadata": {},
   "outputs": [],
   "source": [
    "country_df = pd.DataFrame({'country_list': output_list})"
   ]
  },
  {
   "cell_type": "code",
   "execution_count": 14,
   "metadata": {},
   "outputs": [],
   "source": [
    "search_function(df.information,state_search)"
   ]
  },
  {
   "cell_type": "code",
   "execution_count": 15,
   "metadata": {},
   "outputs": [],
   "source": [
    "#state_df = pd.DataFrame({'state_list':output_list})"
   ]
  },
  {
   "cell_type": "code",
   "execution_count": 16,
   "metadata": {},
   "outputs": [],
   "source": [
    "search_function(df.information,organization_search)"
   ]
  },
  {
   "cell_type": "code",
   "execution_count": 17,
   "metadata": {},
   "outputs": [],
   "source": [
    "organization_df = pd.DataFrame({'organization_list': output_list})"
   ]
  },
  {
   "cell_type": "code",
   "execution_count": 18,
   "metadata": {},
   "outputs": [],
   "source": [
    "search_function(df.information,method_search)"
   ]
  },
  {
   "cell_type": "code",
   "execution_count": 19,
   "metadata": {},
   "outputs": [],
   "source": [
    "method_df = pd.DataFrame({'method_list': output_list})"
   ]
  },
  {
   "cell_type": "code",
   "execution_count": 20,
   "metadata": {},
   "outputs": [],
   "source": [
    "search_function(df.information,infil_search)"
   ]
  },
  {
   "cell_type": "code",
   "execution_count": 21,
   "metadata": {},
   "outputs": [],
   "source": [
    "infil_df = pd.DataFrame({'infiltrtion_list': output_list})"
   ]
  },
  {
   "cell_type": "code",
   "execution_count": 22,
   "metadata": {},
   "outputs": [],
   "source": [
    "search_function(df.information,asset_search)"
   ]
  },
  {
   "cell_type": "code",
   "execution_count": 23,
   "metadata": {},
   "outputs": [],
   "source": [
    "asset_df = pd.DataFrame({'asset_list': output_list})"
   ]
  },
  {
   "cell_type": "code",
   "execution_count": 24,
   "metadata": {},
   "outputs": [],
   "source": [
    "data_analy = df.join(country_df).join(organization_df).join(method_df).join(asset_df).join(infil_df)"
   ]
  },
  {
   "cell_type": "code",
   "execution_count": 25,
   "metadata": {},
   "outputs": [],
   "source": [
    "data_analy.to_csv('csis_data.csv', index=False)"
   ]
  },
  {
   "cell_type": "code",
   "execution_count": null,
   "metadata": {},
   "outputs": [],
   "source": []
  }
 ],
 "metadata": {
  "kernelspec": {
   "display_name": "Python 3",
   "language": "python",
   "name": "python3"
  },
  "language_info": {
   "codemirror_mode": {
    "name": "ipython",
    "version": 3
   },
   "file_extension": ".py",
   "mimetype": "text/x-python",
   "name": "python",
   "nbconvert_exporter": "python",
   "pygments_lexer": "ipython3",
   "version": "3.7.3"
  }
 },
 "nbformat": 4,
 "nbformat_minor": 2
}
